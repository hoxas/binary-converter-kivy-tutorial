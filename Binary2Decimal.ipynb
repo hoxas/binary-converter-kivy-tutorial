{
 "cells": [
  {
   "cell_type": "code",
   "execution_count": 11,
   "metadata": {},
   "outputs": [
    {
     "name": "stdout",
     "output_type": "stream",
     "text": [
      "101.0101010001\n"
     ]
    }
   ],
   "source": [
    "state = 1\n",
    "bin_num = '101.0111'\n",
    "decimal_num = str(5.33)\n",
    "whole, fract = decimal_num.split('.')\n",
    "\n",
    "if state == 0:\n",
    "    # convert binary to decimal\n",
    "    whole = int(whole, 2)\n",
    "    floating = 0\n",
    "    for idx, digit in enumerate(fract):\n",
    "        floating += int(digit)*2**(-(idx+1))\n",
    "    print(whole + floating)\n",
    "else:\n",
    "    # convert decimal to binary\n",
    "    decimal_places = 10\n",
    "    whole = bin(int(whole))[2:]\n",
    "    fract = float('0.'+fract)\n",
    "    floating = []\n",
    "    while len(floating) < decimal_places:\n",
    "        if fract*2 < 1:\n",
    "            floating.append(\"0\")\n",
    "            fract *= 2\n",
    "        elif fract*2 > 1:\n",
    "            floating.append(\"1\")\n",
    "            fract = fract*2 - 1\n",
    "        elif fract*2 == 1.0:\n",
    "            floating.append(\"1\")\n",
    "            break\n",
    "    print(whole + '.' + ''.join(floating))\n",
    "\n"
   ]
  }
 ],
 "metadata": {
  "kernelspec": {
   "display_name": "Python 3.10.4 ('venv': venv)",
   "language": "python",
   "name": "python3"
  },
  "language_info": {
   "codemirror_mode": {
    "name": "ipython",
    "version": 3
   },
   "file_extension": ".py",
   "mimetype": "text/x-python",
   "name": "python",
   "nbconvert_exporter": "python",
   "pygments_lexer": "ipython3",
   "version": "3.10.4"
  },
  "orig_nbformat": 4,
  "vscode": {
   "interpreter": {
    "hash": "023858b156d7bf98ffa1fe6047b5f5a8e351106769c8a26b4c969b9dead30842"
   }
  }
 },
 "nbformat": 4,
 "nbformat_minor": 2
}
